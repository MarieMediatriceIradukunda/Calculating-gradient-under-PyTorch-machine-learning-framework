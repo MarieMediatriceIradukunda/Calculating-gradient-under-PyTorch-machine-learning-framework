{
  "nbformat": 4,
  "nbformat_minor": 0,
  "metadata": {
    "colab": {
      "provenance": []
    },
    "kernelspec": {
      "name": "python3",
      "display_name": "Python 3"
    },
    "language_info": {
      "name": "python"
    }
  },
  "cells": [
    {
      "cell_type": "markdown",
      "source": [
        "# Given the Rosenbrock function\n",
        "## 1. Use jupyter to define $f(x)= \\Sigma_{i=1}^{n-1}\\Big[100(x_{i+1} - x_{i}^2)^2 + (1 - x_i)^2\\Big]$ under the PyTorch machine learning framework"
      ],
      "metadata": {
        "id": "DlEz3bjXT7JY"
      }
    },
    {
      "cell_type": "code",
      "source": [
        "import numpy as np"
      ],
      "metadata": {
        "id": "BMQ_Qf4bUt14"
      },
      "execution_count": 4,
      "outputs": []
    },
    {
      "cell_type": "code",
      "source": [
        "def f(x):\n",
        "    Sum=0\n",
        "    for i in range(len(x)-1):\n",
        "        Sum+=100*((x[i+1]-(x[i])**2)**2+ (1-x[i])**2)\n",
        "    return Sum "
      ],
      "metadata": {
        "id": "IsR4JbfEUAL0"
      },
      "execution_count": 1,
      "outputs": []
    },
    {
      "cell_type": "markdown",
      "source": [
        "## 2. Write a Python function to computer the gradient of this function for $n = 10$ using the Automatic differentiation toolbox under PyTorch."
      ],
      "metadata": {
        "id": "2YHrnE80UYdi"
      }
    },
    {
      "cell_type": "code",
      "source": [
        "import torch\n",
        "def fGradeint(x):\n",
        "    output = 0\n",
        "    for n in range(1):\n",
        "        output  =torch.tensor(x,requires_grad =True)\n",
        "        y=f(output)\n",
        "        y.backward()\n",
        "    return output.grad"
      ],
      "metadata": {
        "id": "GklkWtkMUc_t"
      },
      "execution_count": 2,
      "outputs": []
    },
    {
      "cell_type": "code",
      "source": [
        "w=np.ones(10)\n",
        "t =fGradeint(w)\n",
        "t"
      ],
      "metadata": {
        "colab": {
          "base_uri": "https://localhost:8080/"
        },
        "id": "DoIGJB9hUlJV",
        "outputId": "2f41a26f-3878-4ebf-8aba-c09977ac4dd3"
      },
      "execution_count": 5,
      "outputs": [
        {
          "output_type": "execute_result",
          "data": {
            "text/plain": [
              "tensor([0., 0., 0., 0., 0., 0., 0., 0., 0., 0.], dtype=torch.float64)"
            ]
          },
          "metadata": {},
          "execution_count": 5
        }
      ]
    }
  ]
}